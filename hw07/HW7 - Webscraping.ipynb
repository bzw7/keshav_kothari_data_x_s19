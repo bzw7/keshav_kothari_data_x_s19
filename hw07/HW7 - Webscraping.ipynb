{
 "cells": [
  {
   "cell_type": "markdown",
   "metadata": {},
   "source": [
    "# Data-X Spring 2019: Homework 7\n",
    "\n",
    "### Webscraping\n",
    "\n",
    "\n",
    "\n",
    "In this homework, you will do some exercises with web-scraping."
   ]
  },
  {
   "cell_type": "markdown",
   "metadata": {},
   "source": [
    "## Name: Keshav Kothari\n",
    "\n",
    "## SID: 3034344473\n",
    "\n"
   ]
  },
  {
   "cell_type": "markdown",
   "metadata": {},
   "source": [
    "### Fun with Webscraping & Text manipulation\n"
   ]
  },
  {
   "cell_type": "markdown",
   "metadata": {
    "collapsed": true
   },
   "source": [
    "## 1. Statistics in Presidential Debates\n",
    "\n",
    "Your first task is to scrape Presidential Debates from the Commission of Presidential Debates website: https://www.debates.org/voter-education/debate-transcripts/\n",
    "\n",
    "To do this, you are not allowed to manually look up the URLs that you need, instead you have to scrape them. The root url to be scraped is the one listed above, namely: https://www.debates.org/voter-education/debate-transcripts/\n",
    "\n",
    "\n",
    "1. By using `requests` and `BeautifulSoup` find all the links / URLs on the website that links to transcriptions of **First Presidential Debates** from the years [1988, 1984, 1976, 1960]. In total you should find 4 links / URLs that fulfill this criteria. **Print the urls.**\n",
    "\n",
    "2. When you have a list of the URLs your task is to create a Data Frame with some statistics (see example of output below):\n",
    "    1. Scrape the title of each link and use that as the column name in your Data Frame. \n",
    "    2. Count how long the transcript of the debate is (as in the number of characters in transcription string). Feel free to include `\\` characters in your count, but remove any breakline characters, i.e. `\\n`. You will get credit if your count is +/- 10% from our result.\n",
    "    3. Count how many times the word **war** was used in the different debates. Note that you have to convert the text in a smart way (to not count the word **warranty** for example, but counting **war.**, **war!**, **war,** or **War** etc.\n",
    "    4. Also scrape the most common used word in the debate, and write how many times it was used. Note that you have to use the same strategy as in C in order to do this.\n",
    "    \n",
    "    **Print your final output result.**\n",
    "    \n",
    "**Tips:**\n",
    "\n",
    "___\n",
    "\n",
    "In order to solve the questions above, it can be useful to work with Regular Expressions and explore methods on strings like `.strip(), .replace(), .find(), .count(), .lower()` etc. Both are very powerful tools to do string processing in Python. To count common words for example I used a `Counter` object and a Regular expression pattern for only words, see example:\n",
    "\n",
    "```python\n",
    "    from collections import Counter\n",
    "    import re\n",
    "\n",
    "    counts = Counter(re.findall(r\"[\\w']+\", text.lower()))\n",
    "```\n",
    "\n",
    "Read more about Regular Expressions here: https://docs.python.org/3/howto/regex.html\n",
    "    \n",
    "    \n",
    "**Example output of all of the answers to Question 1.2:**\n",
    "\n",
    "\n",
    "![pres_stats_2](https://github.com/ikhlaqsidhu/data-x/raw/master/x-archive/misc/hw2_imgs_spring2018/presidents_stats_2.jpg)\n",
    "\n",
    "\n",
    "\n",
    "----\n",
    "\n",
    ".\n",
    "\n",
    "\n"
   ]
  },
  {
   "cell_type": "code",
   "execution_count": 1,
   "metadata": {},
   "outputs": [
    {
     "data": {
      "text/html": [
       "<style>.container { width:90% !important; }</style>"
      ],
      "text/plain": [
       "<IPython.core.display.HTML object>"
      ]
     },
     "metadata": {},
     "output_type": "display_data"
    }
   ],
   "source": [
    "# your code here\n",
    "from IPython.core.display import display, HTML\n",
    "display(HTML(\"<style>.container { width:90% !important; }</style>\")) \n",
    "from __future__ import division, print_function\n",
    "import requests\n",
    "import bs4 as bs"
   ]
  },
  {
   "cell_type": "code",
   "execution_count": 2,
   "metadata": {},
   "outputs": [],
   "source": [
    "source = requests.get(\"https://www.debates.org/voter-education/debate-transcripts/\") \n",
    "soup = bs.BeautifulSoup(source.content, features='html.parser')\n",
    "links  = soup.find_all('a')"
   ]
  },
  {
   "cell_type": "code",
   "execution_count": 3,
   "metadata": {},
   "outputs": [
    {
     "name": "stdout",
     "output_type": "stream",
     "text": [
      "Relevant Links:\n",
      "https://www.debates.org/voter-education/debate-transcripts/september-25-1988-debate-transcript/\n",
      "https://www.debates.org/voter-education/debate-transcripts/october-7-1984-debate-transcript/\n",
      "https://www.debates.org/voter-education/debate-transcripts/september-23-1976-debate-transcript/\n",
      "https://www.debates.org/voter-education/debate-transcripts/september-26-1960-debate-transcript/\n"
     ]
    }
   ],
   "source": [
    "debate_links = []\n",
    "print ('Relevant Links:')\n",
    "for url in links:\n",
    "    if 'First' in url.text and 'Presidential' in url.text and 'Debate' in url.text and ('1960' in url.text or '1976' in url.text or '1984' in url.text or '1988' in url.text):\n",
    "        print (\"https://www.debates.org\" + url.get('href'))\n",
    "        debate_links.append(url.get('href'))"
   ]
  },
  {
   "cell_type": "code",
   "execution_count": 4,
   "metadata": {},
   "outputs": [],
   "source": [
    "debate_content = {}\n",
    "titles = []\n",
    "for dl in debate_links:\n",
    "    source = requests.get(\"https://www.debates.org\" + dl)\n",
    "    soup = bs.BeautifulSoup(source.content, features='html.parser') \n",
    "    titles.append(soup.title.text)\n",
    "    debate_content[soup.title.text] = soup"
   ]
  },
  {
   "cell_type": "code",
   "execution_count": 5,
   "metadata": {},
   "outputs": [],
   "source": [
    "import pandas as pd\n",
    "df = pd.DataFrame(columns=titles)"
   ]
  },
  {
   "cell_type": "code",
   "execution_count": 6,
   "metadata": {},
   "outputs": [],
   "source": [
    "list_count = []\n",
    "for t in titles:\n",
    "    s=0\n",
    "    for p in debate_content[t].find_all('p'):\n",
    "        s=s + len(p.text) - p.text.count('\\n')\n",
    "    list_count.append(s)\n",
    "df.loc[\"Debate Char Length\"] =  list_count"
   ]
  },
  {
   "cell_type": "code",
   "execution_count": 7,
   "metadata": {},
   "outputs": [],
   "source": [
    "import re\n",
    "from collections import Counter\n",
    "\n",
    "war_count = []\n",
    "word_list = []\n",
    "for t in titles:\n",
    "    s=[]\n",
    "    for p in debate_content[t].find_all('p'):\n",
    "        s = s + (re.sub('\\n','',re.sub(r'[^\\w\\s]','',p.text.lower()))).split(' ')\n",
    "    war_count.append(s.count('war'))\n",
    "    word_list.append(s)\n",
    "df.loc[\"War Count\"] =  war_count"
   ]
  },
  {
   "cell_type": "code",
   "execution_count": 8,
   "metadata": {},
   "outputs": [],
   "source": [
    "word_ = []\n",
    "num_count = []\n",
    "for wl in word_list:\n",
    "    word_.append(Counter(wl).most_common(1)[0][0])\n",
    "    num_count.append(Counter(wl).most_common(1)[0][1])\n",
    "df.loc['Most Common Word'] = word_\n",
    "df.loc['Most Common Word Count'] = num_count"
   ]
  },
  {
   "cell_type": "code",
   "execution_count": 9,
   "metadata": {},
   "outputs": [
    {
     "data": {
      "text/html": [
       "<div>\n",
       "<style scoped>\n",
       "    .dataframe tbody tr th:only-of-type {\n",
       "        vertical-align: middle;\n",
       "    }\n",
       "\n",
       "    .dataframe tbody tr th {\n",
       "        vertical-align: top;\n",
       "    }\n",
       "\n",
       "    .dataframe thead th {\n",
       "        text-align: right;\n",
       "    }\n",
       "</style>\n",
       "<table border=\"1\" class=\"dataframe\">\n",
       "  <thead>\n",
       "    <tr style=\"text-align: right;\">\n",
       "      <th></th>\n",
       "      <th>CPD: September 25, 1988 Debate Transcript</th>\n",
       "      <th>CPD: October 7, 1984 Debate Transcript</th>\n",
       "      <th>CPD: September 23, 1976 Debate Transcript</th>\n",
       "      <th>CPD: September 26, 1960 Debate Transcript</th>\n",
       "    </tr>\n",
       "  </thead>\n",
       "  <tbody>\n",
       "    <tr>\n",
       "      <th>Debate Char Length</th>\n",
       "      <td>87529</td>\n",
       "      <td>86549</td>\n",
       "      <td>80776</td>\n",
       "      <td>60978</td>\n",
       "    </tr>\n",
       "    <tr>\n",
       "      <th>War Count</th>\n",
       "      <td>7</td>\n",
       "      <td>2</td>\n",
       "      <td>7</td>\n",
       "      <td>3</td>\n",
       "    </tr>\n",
       "    <tr>\n",
       "      <th>Most Common Word</th>\n",
       "      <td>the</td>\n",
       "      <td>the</td>\n",
       "      <td>the</td>\n",
       "      <td>the</td>\n",
       "    </tr>\n",
       "    <tr>\n",
       "      <th>Most Common Word Count</th>\n",
       "      <td>800</td>\n",
       "      <td>868</td>\n",
       "      <td>857</td>\n",
       "      <td>780</td>\n",
       "    </tr>\n",
       "  </tbody>\n",
       "</table>\n",
       "</div>"
      ],
      "text/plain": [
       "                       CPD: September 25, 1988 Debate Transcript  \\\n",
       "Debate Char Length                                         87529   \n",
       "War Count                                                      7   \n",
       "Most Common Word                                             the   \n",
       "Most Common Word Count                                       800   \n",
       "\n",
       "                       CPD: October 7, 1984 Debate Transcript  \\\n",
       "Debate Char Length                                      86549   \n",
       "War Count                                                   2   \n",
       "Most Common Word                                          the   \n",
       "Most Common Word Count                                    868   \n",
       "\n",
       "                       CPD: September 23, 1976 Debate Transcript  \\\n",
       "Debate Char Length                                         80776   \n",
       "War Count                                                      7   \n",
       "Most Common Word                                             the   \n",
       "Most Common Word Count                                       857   \n",
       "\n",
       "                       CPD: September 26, 1960 Debate Transcript  \n",
       "Debate Char Length                                         60978  \n",
       "War Count                                                      3  \n",
       "Most Common Word                                             the  \n",
       "Most Common Word Count                                       780  "
      ]
     },
     "execution_count": 9,
     "metadata": {},
     "output_type": "execute_result"
    }
   ],
   "source": [
    "df"
   ]
  },
  {
   "cell_type": "markdown",
   "metadata": {},
   "source": [
    "    \n",
    "## 2. Download and read in specific line from many data sets\n",
    "\n",
    "Scrape the first 27 data sets from this URL http://people.sc.fsu.edu/~jburkardt/datasets/regression/ (i.e.`x01.txt` - `x27.txt`). Then, save the 5th line in each data set, this should be the name of the data set author (get rid of the `#` symbol, the white spaces and the comma at the end). \n",
    "\n",
    "Count how many times (with a Python function) each author is the reference for one of the 27 data sets. Showcase your results, sorted, with the most common author name first and how many times he appeared in data sets. Use a Pandas DataFrame to show your results, see example. **Print your final output result.**\n",
    "\n",
    "**Example output of the answer for Question 2:**\n",
    "\n",
    "![author_stats](https://github.com/ikhlaqsidhu/data-x/raw/master/x-archive/misc/hw2_imgs_spring2018/data_authors.png)\n"
   ]
  },
  {
   "cell_type": "code",
   "execution_count": 10,
   "metadata": {},
   "outputs": [
    {
     "data": {
      "text/plain": [
       "['Helmut Spaeth,',\n",
       " 'Helmut Spaeth,',\n",
       " 'Helmut Spaeth,',\n",
       " 'Helmut Spaeth,',\n",
       " 'Helmut Spaeth,',\n",
       " 'R J Freund , P D Minton,',\n",
       " 'D G Kleinbaum , L L Kupper,',\n",
       " 'Helmut Spaeth,',\n",
       " 'D G Kleinbaum , L L Kupper,',\n",
       " 'K A Brownlee,',\n",
       " 'Helmut Spaeth,',\n",
       " 'Helmut Spaeth,',\n",
       " 'S Chatterjee , B Price,',\n",
       " 'Helmut Spaeth,',\n",
       " 'Helmut Spaeth,',\n",
       " 'Helmut Spaeth,',\n",
       " 'Helmut Spaeth,',\n",
       " 'Helmut Spaeth,',\n",
       " 'R J Freund , P D Minton,',\n",
       " 'Helmut Spaeth,',\n",
       " 'Helmut Spaeth,',\n",
       " 'Helmut Spaeth,',\n",
       " 'S Chatterjee, B Price,',\n",
       " 'S Chatterjee, B Price,',\n",
       " 'S Chatterjee, B Price,',\n",
       " 'S C Narula, J F Wellington,',\n",
       " 'S C Narula, J F Wellington,']"
      ]
     },
     "execution_count": 10,
     "metadata": {},
     "output_type": "execute_result"
    }
   ],
   "source": [
    "name_list=[]\n",
    "for i in range(1,28):\n",
    "    source = requests.get(\"http://people.sc.fsu.edu/~jburkardt/datasets/regression/x\"+str(i).zfill(2)+\".txt\") \n",
    "    soup = bs.BeautifulSoup(source.content, features='html.parser')\n",
    "    s = str(soup).split('\\n#    ')\n",
    "    name_list.append(s[1].replace('and',','))\n",
    "name_list"
   ]
  },
  {
   "cell_type": "code",
   "execution_count": 11,
   "metadata": {},
   "outputs": [
    {
     "data": {
      "text/plain": [
       "{'Helmut Spaeth': 16,\n",
       " 'R J Freund': 2,\n",
       " 'P D Minton': 2,\n",
       " 'D G Kleinbaum': 2,\n",
       " 'L L Kupper': 2,\n",
       " 'K A Brownlee': 1,\n",
       " 'S Chatterjee': 4,\n",
       " 'B Price': 4,\n",
       " 'S C Narula': 2,\n",
       " 'J F Wellington': 2}"
      ]
     },
     "execution_count": 11,
     "metadata": {},
     "output_type": "execute_result"
    }
   ],
   "source": [
    "name_count={}\n",
    "for names in name_list:\n",
    "    name = names.split(',')\n",
    "    for n in name:\n",
    "        m = n.strip()\n",
    "        if len(m)>0:\n",
    "            if m not in name_count:\n",
    "                name_count[m]=0\n",
    "            name_count[m]+=1\n",
    "name_count"
   ]
  },
  {
   "cell_type": "code",
   "execution_count": 12,
   "metadata": {},
   "outputs": [
    {
     "data": {
      "text/html": [
       "<div>\n",
       "<style scoped>\n",
       "    .dataframe tbody tr th:only-of-type {\n",
       "        vertical-align: middle;\n",
       "    }\n",
       "\n",
       "    .dataframe tbody tr th {\n",
       "        vertical-align: top;\n",
       "    }\n",
       "\n",
       "    .dataframe thead th {\n",
       "        text-align: right;\n",
       "    }\n",
       "</style>\n",
       "<table border=\"1\" class=\"dataframe\">\n",
       "  <thead>\n",
       "    <tr style=\"text-align: right;\">\n",
       "      <th></th>\n",
       "      <th>Count</th>\n",
       "    </tr>\n",
       "    <tr>\n",
       "      <th>Authors</th>\n",
       "      <th></th>\n",
       "    </tr>\n",
       "  </thead>\n",
       "  <tbody>\n",
       "    <tr>\n",
       "      <th>Helmut Spaeth</th>\n",
       "      <td>16</td>\n",
       "    </tr>\n",
       "    <tr>\n",
       "      <th>S Chatterjee</th>\n",
       "      <td>4</td>\n",
       "    </tr>\n",
       "    <tr>\n",
       "      <th>B Price</th>\n",
       "      <td>4</td>\n",
       "    </tr>\n",
       "    <tr>\n",
       "      <th>R J Freund</th>\n",
       "      <td>2</td>\n",
       "    </tr>\n",
       "    <tr>\n",
       "      <th>P D Minton</th>\n",
       "      <td>2</td>\n",
       "    </tr>\n",
       "    <tr>\n",
       "      <th>D G Kleinbaum</th>\n",
       "      <td>2</td>\n",
       "    </tr>\n",
       "    <tr>\n",
       "      <th>L L Kupper</th>\n",
       "      <td>2</td>\n",
       "    </tr>\n",
       "    <tr>\n",
       "      <th>S C Narula</th>\n",
       "      <td>2</td>\n",
       "    </tr>\n",
       "    <tr>\n",
       "      <th>J F Wellington</th>\n",
       "      <td>2</td>\n",
       "    </tr>\n",
       "    <tr>\n",
       "      <th>K A Brownlee</th>\n",
       "      <td>1</td>\n",
       "    </tr>\n",
       "  </tbody>\n",
       "</table>\n",
       "</div>"
      ],
      "text/plain": [
       "                Count\n",
       "Authors              \n",
       "Helmut Spaeth      16\n",
       "S Chatterjee        4\n",
       "B Price             4\n",
       "R J Freund          2\n",
       "P D Minton          2\n",
       "D G Kleinbaum       2\n",
       "L L Kupper          2\n",
       "S C Narula          2\n",
       "J F Wellington      2\n",
       "K A Brownlee        1"
      ]
     },
     "execution_count": 12,
     "metadata": {},
     "output_type": "execute_result"
    }
   ],
   "source": [
    "df = pd.DataFrame.from_dict(name_count,orient='index',columns=['Count'])\n",
    "df.index.names = ['Authors']\n",
    "df=df.sort_values(by=['Count'],ascending=False)\n",
    "df"
   ]
  }
 ],
 "metadata": {
  "kernel_info": {
   "name": "data-x"
  },
  "kernelspec": {
   "display_name": "Python 3",
   "language": "python",
   "name": "python3"
  },
  "language_info": {
   "codemirror_mode": {
    "name": "ipython",
    "version": 3
   },
   "file_extension": ".py",
   "mimetype": "text/x-python",
   "name": "python",
   "nbconvert_exporter": "python",
   "pygments_lexer": "ipython3",
   "version": "3.6.5"
  },
  "nteract": {
   "version": "0.7.1"
  }
 },
 "nbformat": 4,
 "nbformat_minor": 2
}

{
 "cells": [
  {
   "cell_type": "markdown",
   "metadata": {},
   "source": [
    "## Name - Keshav Kothari\n",
    "\n",
    "## SID - 3034344473"
   ]
  },
  {
   "cell_type": "markdown",
   "metadata": {},
   "source": [
    "1. For __UNIGRAM setting__ ie. when ngram=1 in the function `train_predict_sentiment()`, compare the performance of original cleaned reviews in Sentiment anlysis to -  \n",
    "    1. lemmatized reviews\n",
    "    2. stemmed reviews\n",
    "2. For __BIGRAM setting__ ie. when ngram=2 in the function `train_predict_sentiment()`, compare the performance of original cleaned reviews in sentiment analysis to:\n",
    "     1. lemmatized reviews\n",
    "     2. stemmed reviews\n",
    "3. For __UNIGRAM setting__ ie. ngram=1 and lemmatize = True , compare the performance of Sentiment analysis for these different values of maximum features = [10,100,1000,5000], you can change the value of argument max_features in `train_predict_sentiment()\n",
    "    1. max_feature = 10\n",
    "    2. max_feature = 100\n",
    "    3. max_feature = 1000\n",
    "    4. max_feature = 5000"
   ]
  },
  {
   "cell_type": "code",
   "execution_count": 18,
   "metadata": {
    "scrolled": true
   },
   "outputs": [
    {
     "name": "stdout",
     "output_type": "stream",
     "text": [
      " The training accuracy is:  0.9999 \n",
      " The validation accuracy is:  0.8216\n"
     ]
    }
   ],
   "source": [
    "# 1.\n",
    "original_clean_reviews=review_cleaner(train['review'],lemmatize=False,stem=False)\n",
    "train_predict_sentiment(cleaned_reviews=original_clean_reviews, y=train[\"sentiment\"],ngram=1,max_features=1000)"
   ]
  },
  {
   "cell_type": "code",
   "execution_count": 19,
   "metadata": {},
   "outputs": [
    {
     "name": "stdout",
     "output_type": "stream",
     "text": [
      " The training accuracy is:  0.99995 \n",
      " The validation accuracy is:  0.8314\n"
     ]
    }
   ],
   "source": [
    "# 1A.\n",
    "original_clean_reviews=review_cleaner(train['review'],lemmatize=True,stem=False)\n",
    "train_predict_sentiment(cleaned_reviews=original_clean_reviews, y=train[\"sentiment\"],ngram=1,max_features=1000)"
   ]
  },
  {
   "cell_type": "code",
   "execution_count": 20,
   "metadata": {},
   "outputs": [
    {
     "name": "stdout",
     "output_type": "stream",
     "text": [
      " The training accuracy is:  1.0 \n",
      " The validation accuracy is:  0.819\n"
     ]
    }
   ],
   "source": [
    "# 1B.\n",
    "original_clean_reviews=review_cleaner(train['review'],lemmatize=False,stem=True)\n",
    "train_predict_sentiment(cleaned_reviews=original_clean_reviews, y=train[\"sentiment\"],ngram=1,max_features=1000)"
   ]
  },
  {
   "cell_type": "code",
   "execution_count": 21,
   "metadata": {},
   "outputs": [
    {
     "name": "stdout",
     "output_type": "stream",
     "text": [
      " The training accuracy is:  1.0 \n",
      " The validation accuracy is:  0.8218\n"
     ]
    }
   ],
   "source": [
    "# 2.\n",
    "original_clean_reviews=review_cleaner(train['review'],lemmatize=False,stem=False)\n",
    "train_predict_sentiment(cleaned_reviews=original_clean_reviews, y=train[\"sentiment\"],ngram=2,max_features=1000)"
   ]
  },
  {
   "cell_type": "code",
   "execution_count": 22,
   "metadata": {},
   "outputs": [
    {
     "name": "stdout",
     "output_type": "stream",
     "text": [
      " The training accuracy is:  1.0 \n",
      " The validation accuracy is:  0.8238\n"
     ]
    }
   ],
   "source": [
    "# 2A.\n",
    "original_clean_reviews=review_cleaner(train['review'],lemmatize=True,stem=False)\n",
    "train_predict_sentiment(cleaned_reviews=original_clean_reviews, y=train[\"sentiment\"],ngram=2,max_features=1000)"
   ]
  },
  {
   "cell_type": "code",
   "execution_count": 23,
   "metadata": {},
   "outputs": [
    {
     "name": "stdout",
     "output_type": "stream",
     "text": [
      " The training accuracy is:  0.99995 \n",
      " The validation accuracy is:  0.828\n"
     ]
    }
   ],
   "source": [
    "# 2B.\n",
    "original_clean_reviews=review_cleaner(train['review'],lemmatize=False,stem=True)\n",
    "train_predict_sentiment(cleaned_reviews=original_clean_reviews, y=train[\"sentiment\"],ngram=2,max_features=1000)"
   ]
  },
  {
   "cell_type": "code",
   "execution_count": 24,
   "metadata": {},
   "outputs": [
    {
     "name": "stdout",
     "output_type": "stream",
     "text": [
      " The training accuracy is:  0.8714 \n",
      " The validation accuracy is:  0.5606\n"
     ]
    }
   ],
   "source": [
    "# 3A.\n",
    "original_clean_reviews=review_cleaner(train['review'],lemmatize=True,stem=False)\n",
    "train_predict_sentiment(cleaned_reviews=original_clean_reviews, y=train[\"sentiment\"],ngram=1,max_features=10)"
   ]
  },
  {
   "cell_type": "code",
   "execution_count": 25,
   "metadata": {},
   "outputs": [
    {
     "name": "stdout",
     "output_type": "stream",
     "text": [
      " The training accuracy is:  0.99995 \n",
      " The validation accuracy is:  0.721\n"
     ]
    }
   ],
   "source": [
    "# 3B.\n",
    "original_clean_reviews=review_cleaner(train['review'],lemmatize=True,stem=False)\n",
    "train_predict_sentiment(cleaned_reviews=original_clean_reviews, y=train[\"sentiment\"],ngram=1,max_features=100)"
   ]
  },
  {
   "cell_type": "code",
   "execution_count": 26,
   "metadata": {},
   "outputs": [
    {
     "name": "stdout",
     "output_type": "stream",
     "text": [
      " The training accuracy is:  1.0 \n",
      " The validation accuracy is:  0.8182\n"
     ]
    }
   ],
   "source": [
    "# 3C.\n",
    "original_clean_reviews=review_cleaner(train['review'],lemmatize=True,stem=False)\n",
    "train_predict_sentiment(cleaned_reviews=original_clean_reviews, y=train[\"sentiment\"],ngram=1,max_features=1000)"
   ]
  },
  {
   "cell_type": "code",
   "execution_count": 27,
   "metadata": {},
   "outputs": [
    {
     "name": "stdout",
     "output_type": "stream",
     "text": [
      " The training accuracy is:  1.0 \n",
      " The validation accuracy is:  0.8392\n"
     ]
    }
   ],
   "source": [
    "# 3D.\n",
    "original_clean_reviews=review_cleaner(train['review'],lemmatize=True,stem=False)\n",
    "train_predict_sentiment(cleaned_reviews=original_clean_reviews, y=train[\"sentiment\"],ngram=1,max_features=5000)"
   ]
  },
  {
   "cell_type": "markdown",
   "metadata": {},
   "source": [
    "From the above tests, we can conclude the following things.\n",
    "1. ngram doesn't have a significant impact on the accuracy. It somewhat increases the accuracy but not conclusively.\n",
    "2. Lemmatizing and stemming seem to have slight positive positive affect on the accuracy, especially with ngram=2. Lemmatizing had higher affect with ngram=1 while stemming had better results with ngram=2.\n",
    "3. max_features is clearly an important feature with the accuracy increasing continously as the number of features are increased. The rate of increase is decreasing so at some point, increasing the feature might not have as much effect."
   ]
  }
 ],
 "metadata": {
  "kernelspec": {
   "display_name": "Python (data-x)",
   "language": "python",
   "name": "data-x"
  },
  "language_info": {
   "codemirror_mode": {
    "name": "ipython",
    "version": 3
   },
   "file_extension": ".py",
   "mimetype": "text/x-python",
   "name": "python",
   "nbconvert_exporter": "python",
   "pygments_lexer": "ipython3",
   "version": "3.6.7"
  }
 },
 "nbformat": 4,
 "nbformat_minor": 2
}

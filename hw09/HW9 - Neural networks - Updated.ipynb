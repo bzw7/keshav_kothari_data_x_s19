{
 "cells": [
  {
   "cell_type": "markdown",
   "metadata": {},
   "source": [
    "# Data-X Spring 2019: Homework 9"
   ]
  },
  {
   "cell_type": "markdown",
   "metadata": {},
   "source": [
    "## Student name: Keshav Kothari\n",
    "\n",
    "\n",
    "\n",
    "\n",
    "\n",
    "\n",
    "## Student id: 3034344473"
   ]
  },
  {
   "cell_type": "markdown",
   "metadata": {},
   "source": [
    "**Q1.** You have now seen how Neural networks work. You have also seen how to create and visualize neural networks using Tensorflow and Tensorboard. In this Question, you will be working on Neural networks. You will be using MNIST data (labelled images of digits) that we discussed in the class to create vanilla dense Neural network model using **tensorflow** (You can use 1.x and 2.x as well, **You can use Tensorflow with Keras**) with the following characteristics:\n",
    "- Input layer size of 784 (Since each image is 28 * 28)\n",
    "- Three hidden layers of 300, 200 , 100\n",
    "- Output layer of 10 (Since 0 - 9 digits)\n",
    "- Use stochastic gradient descent\n",
    "- Any other requirements can be your choice\n",
    "\n",
    "\n",
    "Note that you have to define own functions for calculating loss function, optimizer to feed into the neural network. \n",
    "\n",
    "\n",
    "\n",
    "\n",
    "**Plot your neural network graph (using tensorboard) and the plot of performance results (Training and Validation accuracies and loss) for every epoch**\n",
    "\n",
    "Note: You can access MNIST data from **keras.datasets** [Link](https://keras.io/datasets/#mnist-database-of-handwritten-digits) or any standard available MNIST datasource (http://yann.lecun.com/exdb/mnist/) "
   ]
  },
  {
   "cell_type": "code",
   "execution_count": 1,
   "metadata": {},
   "outputs": [
    {
     "name": "stdout",
     "output_type": "stream",
     "text": [
      "WARNING:tensorflow:From /home/keshav/anaconda3/envs/data-x/lib/python3.6/site-packages/tensorflow/python/ops/resource_variable_ops.py:435: colocate_with (from tensorflow.python.framework.ops) is deprecated and will be removed in a future version.\n",
      "Instructions for updating:\n",
      "Colocations handled automatically by placer.\n",
      "Train on 48000 samples, validate on 12000 samples\n",
      "Epoch 1/5\n",
      "48000/48000 [==============================] - 11s 235us/sample - loss: 0.2817 - acc: 0.9143 - val_loss: 0.1311 - val_acc: 0.9632\n",
      "Epoch 2/5\n",
      "48000/48000 [==============================] - 11s 227us/sample - loss: 0.1076 - acc: 0.9680 - val_loss: 0.1105 - val_acc: 0.9671\n",
      "Epoch 3/5\n",
      "48000/48000 [==============================] - 11s 230us/sample - loss: 0.0743 - acc: 0.9768 - val_loss: 0.0905 - val_acc: 0.9743\n",
      "Epoch 4/5\n",
      "48000/48000 [==============================] - 11s 233us/sample - loss: 0.0518 - acc: 0.9836 - val_loss: 0.0911 - val_acc: 0.9744\n",
      "Epoch 5/5\n",
      "48000/48000 [==============================] - 11s 227us/sample - loss: 0.0388 - acc: 0.9876 - val_loss: 0.0817 - val_acc: 0.9762\n",
      "10000/10000 [==============================] - 1s 79us/sample - loss: 0.0706 - acc: 0.9772\n"
     ]
    },
    {
     "data": {
      "text/plain": [
       "[0.07064836732036202, 0.9772]"
      ]
     },
     "execution_count": 1,
     "metadata": {},
     "output_type": "execute_result"
    }
   ],
   "source": [
    "# Your code here\n",
    "import tensorflow as tf\n",
    "from tensorflow.keras import losses\n",
    "from tensorflow.keras.optimizers import SGD\n",
    "from tensorflow.keras.callbacks import TensorBoard\n",
    "from time import time\n",
    "\n",
    "mnist = tf.keras.datasets.mnist\n",
    "\n",
    "(x_train, y_train),(x_test, y_test) = mnist.load_data()\n",
    "x_train, x_test = x_train / 255.0, x_test / 255.0\n",
    "\n",
    "model1 = tf.keras.models.Sequential([\n",
    "  tf.keras.layers.Flatten(input_shape=(28, 28)),\n",
    "  tf.keras.layers.Dense(300, activation=tf.nn.relu),\n",
    "  tf.keras.layers.Dense(200, activation=tf.nn.relu),\n",
    "  tf.keras.layers.Dense(100, activation=tf.nn.relu),\n",
    "  tf.keras.layers.Dense(10, activation=tf.nn.softmax)\n",
    "])\n",
    "sgd = SGD(lr=0.01, decay=1e-6, momentum=0.9, nesterov=True)\n",
    "loss = losses.sparse_categorical_crossentropy\n",
    "model1.compile(loss=loss,\n",
    "              optimizer=sgd,\n",
    "              metrics=['accuracy'])\n",
    "tbCallBack = TensorBoard(log_dir='./Graph', histogram_freq=0, write_graph=True, write_images=True)\n",
    "history = model1.fit(x_train, y_train, validation_split=0.2, epochs=5, callbacks=[tbCallBack])\n",
    "model1.evaluate(x_test, y_test)"
   ]
  },
  {
   "cell_type": "markdown",
   "metadata": {},
   "source": [
    "Network Graph\n",
    "![alt text](graph_run=.png \"Network Graph\")\n",
    "Training Loss\n",
    "<img src=\"epoch_loss_1.svg\" alt=\"Drawing\" style=\"width: 500px;\"/>\n",
    "Training Accuracy\n",
    "<img src=\"epoch_acc_1.svg\" alt=\"Drawing\" style=\"width: 500px;\"/>\n",
    "Validation Loss\n",
    "<img src=\"epoch_val_loss_1.svg\" alt=\"Drawing\" style=\"width: 500px;\"/>\n",
    "Validation Accuracy\n",
    "<img src=\"epoch_val_acc_1.svg\" alt=\"Drawing\" style=\"width: 500px;\"/>\n"
   ]
  },
  {
   "cell_type": "markdown",
   "metadata": {},
   "source": [
    "**Q2.** Use transfer learning and use the Imagenet VGG16 model to train on MNIST data. You can use **Keras** for solving this question. You can choose any requirements on loss function, optimizer etc. **Plot the performance results (Training and Validation accuracies & loss) for every epoch**"
   ]
  },
  {
   "cell_type": "code",
   "execution_count": 35,
   "metadata": {},
   "outputs": [],
   "source": [
    "import sys\n",
    "import numpy as np\n",
    "import cv2\n",
    "import sklearn.metrics as sklm\n",
    "\n",
    "from keras.applications.vgg16 import VGG16\n",
    "from keras.preprocessing import image\n",
    "from keras.applications.vgg16 import preprocess_input\n",
    "from keras.layers import Input, Flatten, Dense, Dropout\n",
    "from keras.models import Model, load_model\n",
    "from keras.datasets import mnist\n",
    "from keras import backend as K\n",
    "\n",
    "img_dim_ordering = 'tf'\n",
    "K.set_image_dim_ordering(img_dim_ordering)\n",
    "\n",
    "from keras.datasets import mnist\n",
    "(x_train, y_train), (x_test, y_test) = mnist.load_data()\n",
    "\n",
    "# the model\n",
    "def pretrained_model(img_shape, num_classes):\n",
    "    model_vgg16_conv = VGG16(weights='imagenet', include_top=False)\n",
    "    # Make vgg16 model layers as non trainable\n",
    "    for layer in model_vgg16_conv.layers:\n",
    "        layer.trainable = False\n",
    "\n",
    "    #Create your own input format\n",
    "    keras_input = Input(shape=img_shape, name = 'image_input')\n",
    "    \n",
    "    #Use the generated model \n",
    "    output_vgg16_conv = model_vgg16_conv(keras_input)\n",
    "    \n",
    "    #Add the fully-connected layers \n",
    "    x = Flatten(name='flatten')(output_vgg16_conv)\n",
    "    x = Dense(256, activation='relu', name='fc1')(x)\n",
    "    x = Dense(64, activation='relu', name='fc2')(x)\n",
    "    x = Dense(num_classes, activation='softmax', name='predictions')(x)\n",
    "    \n",
    "    #Create your own model \n",
    "    pretrained_model = Model(inputs=keras_input, outputs=x)\n",
    "    return pretrained_model\n",
    "\n",
    "# converting it to RGB\n",
    "x_train = [cv2.cvtColor(cv2.resize(i, (32,32)), cv2.COLOR_GRAY2BGR) for i in x_train]\n",
    "x_train = np.concatenate([arr[np.newaxis] for arr in x_train]).astype('float32')\n",
    "\n",
    "x_test = [cv2.cvtColor(cv2.resize(i, (32,32)), cv2.COLOR_GRAY2BGR) for i in x_test]\n",
    "x_test = np.concatenate([arr[np.newaxis] for arr in x_test]).astype('float32')\n",
    "\n",
    "# training the model\n",
    "model2= pretrained_model(x_train.shape[1:], len(set(y_train)))"
   ]
  },
  {
   "cell_type": "code",
   "execution_count": 36,
   "metadata": {},
   "outputs": [
    {
     "name": "stderr",
     "output_type": "stream",
     "text": [
      "/home/keshav/anaconda3/envs/data-x/lib/python3.6/site-packages/ipykernel_launcher.py:2: UserWarning: The `nb_epoch` argument in `fit` has been renamed `epochs`.\n",
      "  \n"
     ]
    },
    {
     "name": "stdout",
     "output_type": "stream",
     "text": [
      "Train on 48000 samples, validate on 12000 samples\n",
      "Epoch 1/2\n",
      "48000/48000 [==============================] - 147s 3ms/step - loss: 0.4511 - acc: 0.8901 - val_loss: 0.2128 - val_acc: 0.9312\n",
      "Epoch 2/2\n",
      "48000/48000 [==============================] - 144s 3ms/step - loss: 0.1893 - acc: 0.9390 - val_loss: 0.2103 - val_acc: 0.9313\n"
     ]
    }
   ],
   "source": [
    "model2.compile(loss='sparse_categorical_crossentropy', optimizer='adam', metrics=['accuracy'])\n",
    "history = model2.fit(x_train, y_train, nb_epoch=2, validation_split=0.2, shuffle=True)"
   ]
  },
  {
   "cell_type": "code",
   "execution_count": 37,
   "metadata": {},
   "outputs": [
    {
     "name": "stdout",
     "output_type": "stream",
     "text": [
      "10000/10000 [==============================] - 23s 2ms/step\n"
     ]
    },
    {
     "data": {
      "text/plain": [
       "[0.20951285454928875, 0.9317]"
      ]
     },
     "execution_count": 37,
     "metadata": {},
     "output_type": "execute_result"
    }
   ],
   "source": [
    "model2.evaluate(x_test, y_test)"
   ]
  },
  {
   "cell_type": "code",
   "execution_count": 43,
   "metadata": {},
   "outputs": [
    {
     "data": {
      "image/png": "[encoded data removed]",
      "text/plain": [
       "<Figure size 432x288 with 1 Axes>"
      ]
     },
     "metadata": {
      "needs_background": "light"
     },
     "output_type": "display_data"
    }
   ],
   "source": [
    "import matplotlib.pyplot as plt\n",
    "num_epoch = range(0,2)\n",
    "plt.plot(num_epoch,history.history['val_loss'],label='validation_loss')\n",
    "plt.plot(num_epoch,history.history['val_acc'],label='validation_accuracy')\n",
    "plt.plot(num_epoch,history.history['loss'],label='train_loss')\n",
    "plt.plot(num_epoch,history.history['acc'],label='train_accuracy')\n",
    "plt.legend()\n",
    "plt.xlabel('Epoch')\n",
    "plt.title('Performance results (Training and Validation accuracies & loss) for every epoch')\n",
    "plt.show()"
   ]
  },
  {
   "cell_type": "markdown",
   "metadata": {},
   "source": [
    "**EXTRA CREDIT Q.** **(MANDATORY for students taking IND ENG 290)** Customize your neural networks in **Q1** to how many ever layers you want, use [batch normalization](https://www.tensorflow.org/api_docs/python/tf/layers/batch_normalization) and [Adam Optimizer](https://www.tensorflow.org/api_docs/python/tf/train/AdamOptimizer) and try different regularization techniques to combat overfitting. Also use as many iterations you want and plot every 10th iteration on the tensorboard. We will give extra credit if you achieve more than **98.5%** on the MNIST data. **Plot the neural network graph (using tensorboard) and describe the settings that you used and the performance results. Also plot performance results (Training and Validation accuracies & loss) for every epoch**\n",
    "\n",
    "Note: You can use Keras if necessary for solving this question. In case you are using Keras and are unable to plot the neural network graph, plot only the performance results.\n",
    "\n",
    "If you cannot run your tensorflow notebooks locally, you can use. \n",
    "https://datahub.berkeley.edu/hub/home"
   ]
  },
  {
   "cell_type": "code",
   "execution_count": 48,
   "metadata": {},
   "outputs": [
    {
     "name": "stdout",
     "output_type": "stream",
     "text": [
      "Train on 54000 samples, validate on 6000 samples\n",
      "Epoch 1/20\n",
      "54000/54000 [==============================] - 28s 514us/sample - loss: 0.2534 - acc: 0.9228 - val_loss: 0.1044 - val_acc: 0.9695\n",
      "Epoch 2/20\n",
      "54000/54000 [==============================] - 25s 472us/sample - loss: 0.1435 - acc: 0.9561 - val_loss: 0.0825 - val_acc: 0.9767\n",
      "Epoch 3/20\n",
      "54000/54000 [==============================] - 26s 476us/sample - loss: 0.1136 - acc: 0.9642 - val_loss: 0.0772 - val_acc: 0.9783\n",
      "Epoch 4/20\n",
      "54000/54000 [==============================] - 25s 468us/sample - loss: 0.1014 - acc: 0.9676 - val_loss: 0.0679 - val_acc: 0.9802\n",
      "Epoch 5/20\n",
      "54000/54000 [==============================] - 25s 467us/sample - loss: 0.0828 - acc: 0.9730 - val_loss: 0.0726 - val_acc: 0.9817\n",
      "Epoch 6/20\n",
      "54000/54000 [==============================] - 25s 467us/sample - loss: 0.0759 - acc: 0.9753 - val_loss: 0.0685 - val_acc: 0.9815\n",
      "Epoch 7/20\n",
      "54000/54000 [==============================] - 25s 470us/sample - loss: 0.0666 - acc: 0.9792 - val_loss: 0.0640 - val_acc: 0.9840\n",
      "Epoch 8/20\n",
      "54000/54000 [==============================] - 26s 473us/sample - loss: 0.0647 - acc: 0.9790 - val_loss: 0.0646 - val_acc: 0.9835\n",
      "Epoch 9/20\n",
      "54000/54000 [==============================] - 25s 471us/sample - loss: 0.0555 - acc: 0.9823 - val_loss: 0.0632 - val_acc: 0.9837\n",
      "Epoch 10/20\n",
      "54000/54000 [==============================] - 25s 469us/sample - loss: 0.0543 - acc: 0.9816 - val_loss: 0.0678 - val_acc: 0.9825\n",
      "Epoch 11/20\n",
      "54000/54000 [==============================] - 25s 471us/sample - loss: 0.0497 - acc: 0.9841 - val_loss: 0.0713 - val_acc: 0.9830\n",
      "Epoch 12/20\n",
      "54000/54000 [==============================] - 25s 470us/sample - loss: 0.0460 - acc: 0.9850 - val_loss: 0.0793 - val_acc: 0.9800\n",
      "Epoch 13/20\n",
      "54000/54000 [==============================] - 25s 470us/sample - loss: 0.0421 - acc: 0.9857 - val_loss: 0.0763 - val_acc: 0.9818\n",
      "Epoch 14/20\n",
      "54000/54000 [==============================] - 25s 464us/sample - loss: 0.0437 - acc: 0.9853 - val_loss: 0.0606 - val_acc: 0.9853\n",
      "Epoch 15/20\n",
      "54000/54000 [==============================] - 25s 471us/sample - loss: 0.0392 - acc: 0.9870 - val_loss: 0.0714 - val_acc: 0.9825\n",
      "Epoch 16/20\n",
      "54000/54000 [==============================] - 25s 468us/sample - loss: 0.0379 - acc: 0.9874 - val_loss: 0.0630 - val_acc: 0.9860\n",
      "Epoch 17/20\n",
      "54000/54000 [==============================] - 25s 469us/sample - loss: 0.0377 - acc: 0.9877 - val_loss: 0.0568 - val_acc: 0.9865\n",
      "Epoch 18/20\n",
      "54000/54000 [==============================] - 26s 474us/sample - loss: 0.0342 - acc: 0.9886 - val_loss: 0.0630 - val_acc: 0.9848\n",
      "Epoch 19/20\n",
      "54000/54000 [==============================] - 25s 468us/sample - loss: 0.0316 - acc: 0.9893 - val_loss: 0.0612 - val_acc: 0.9865\n",
      "Epoch 20/20\n",
      "54000/54000 [==============================] - 26s 473us/sample - loss: 0.0315 - acc: 0.9892 - val_loss: 0.0619 - val_acc: 0.9857\n",
      "10000/10000 [==============================] - 2s 168us/sample - loss: 0.0577 - acc: 0.9850\n"
     ]
    },
    {
     "data": {
      "text/plain": [
       "[0.05769822396981836, 0.985]"
      ]
     },
     "execution_count": 48,
     "metadata": {},
     "output_type": "execute_result"
    }
   ],
   "source": [
    "# Your code here\n",
    "import tensorflow as tf\n",
    "from tensorflow.keras import losses\n",
    "from tensorflow.keras.optimizers import SGD,Adam,RMSprop,Adadelta\n",
    "from tensorflow.keras.callbacks import TensorBoard\n",
    "from time import time\n",
    "\n",
    "mnist = tf.keras.datasets.mnist\n",
    "\n",
    "(x_train, y_train),(x_test, y_test) = mnist.load_data()\n",
    "x_train, x_test = x_train / 255.0, x_test / 255.0\n",
    "\n",
    "\n",
    "from keras.utils import np_utils\n",
    "y_train = np_utils.to_categorical(y_train)\n",
    "y_test = np_utils.to_categorical(y_test)\n",
    "\n",
    "model3 = tf.keras.models.Sequential([\n",
    "  tf.keras.layers.Flatten(input_shape=(28, 28)),\n",
    "  tf.keras.layers.Dense(512, activation=tf.nn.relu),\n",
    "  tf.keras.layers.BatchNormalization(),\n",
    "  tf.keras.layers.Dropout(0.2),\n",
    "  tf.keras.layers.Dense(256, activation=tf.nn.relu),\n",
    "  tf.keras.layers.BatchNormalization(),\n",
    "  tf.keras.layers.Dropout(0.2),\n",
    "  tf.keras.layers.Dense(10, activation=tf.nn.softmax)\n",
    "])\n",
    "opt = Adam()\n",
    "loss = losses.categorical_crossentropy\n",
    "model3.compile(loss=loss,\n",
    "              optimizer=opt,\n",
    "              metrics=['accuracy'])\n",
    "tbCallBack = TensorBoard(log_dir='./Graph_3', histogram_freq=0, write_graph=True, write_images=True)\n",
    "history = model3.fit(x_train, y_train, validation_split=0.1, epochs=20, callbacks=[tbCallBack], shuffle=True)\n",
    "model3.evaluate(x_test, y_test)"
   ]
  },
  {
   "cell_type": "code",
   "execution_count": 18,
   "metadata": {},
   "outputs": [
    {
     "name": "stdout",
     "output_type": "stream",
     "text": [
      "\n"
     ]
    }
   ],
   "source": [
    "# Save Model\n",
    "tf.keras.models.save_model(model3,'./98_5_dense')"
   ]
  },
  {
   "cell_type": "markdown",
   "metadata": {},
   "source": [
    "Network Graph\n",
    "![alt text](graph_3.png \"Network Graph\")"
   ]
  },
  {
   "cell_type": "markdown",
   "metadata": {},
   "source": [
    "Training Loss\n",
    "<img src=\"epoch_loss.svg\" alt=\"Drawing\" style=\"width: 500px;\"/>\n",
    "Training Accuracy\n",
    "<img src=\"epoch_acc.svg\" alt=\"Drawing\" style=\"width: 500px;\"/>\n",
    "Validation Loss\n",
    "<img src=\"epoch_val_loss.svg\" alt=\"Drawing\" style=\"width: 500px;\"/>\n",
    "Validation Accuracy\n",
    "<img src=\"epoch_val_acc.svg\" alt=\"Drawing\" style=\"width: 500px;\"/>"
   ]
  },
  {
   "cell_type": "markdown",
   "metadata": {},
   "source": [
    "# Model Description\n",
    "\n",
    "I tried increasing the layer size and layer depth but they saturated at around 98% accuracy. I googled for what people used and most of them indicated using CNNs to get accuracy above 98% which we we're allowed to. The question indicated that overfitting might be the issue because of which I limited my layer size to 2, with dimensions of 512 and 256 which seemed to work best for the users. I further added batch normalization and dropouts (20%) to combat overfitting. The Adam optimizer was used as asked for in the question. I tried various loss functions and eventually categorical_crossentropy got me over the hurdle. I also had to adjust the validation percentage to 0.1 to have more training data to train on with 20 epoch. I tried using a lower batch size but that took too long to train. "
   ]
  },
  {
   "cell_type": "code",
   "execution_count": 4,
   "metadata": {},
   "outputs": [
    {
     "name": "stdout",
     "output_type": "stream",
     "text": [
      "10000/10000 [==============================] - 1s 132us/sample - loss: 0.0577 - acc: 0.9850\n"
     ]
    },
    {
     "data": {
      "text/plain": [
       "[0.05769822396981836, 0.985]"
      ]
     },
     "execution_count": 4,
     "metadata": {},
     "output_type": "execute_result"
    }
   ],
   "source": [
    "# Test the model again\n",
    "\n",
    "import tensorflow as tf\n",
    "\n",
    "mnist = tf.keras.datasets.mnist\n",
    "\n",
    "(x_train, y_train),(x_test, y_test) = mnist.load_data()\n",
    "x_train, x_test = x_train / 255.0, x_test / 255.0\n",
    "\n",
    "from keras.utils import np_utils\n",
    "y_train = np_utils.to_categorical(y_train)\n",
    "y_test = np_utils.to_categorical(y_test)\n",
    "\n",
    "model4 = tf.keras.models.load_model('./98_5_dense')\n",
    "model4.evaluate(x_test, y_test)"
   ]
  }
 ],
 "metadata": {
  "kernelspec": {
   "display_name": "Python (data-x)",
   "language": "python",
   "name": "data-x"
  },
  "language_info": {
   "codemirror_mode": {
    "name": "ipython",
    "version": 3
   },
   "file_extension": ".py",
   "mimetype": "text/x-python",
   "name": "python",
   "nbconvert_exporter": "python",
   "pygments_lexer": "ipython3",
   "version": "3.6.7"
  }
 },
 "nbformat": 4,
 "nbformat_minor": 2
}
